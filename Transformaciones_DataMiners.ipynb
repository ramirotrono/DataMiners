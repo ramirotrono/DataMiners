{
  "nbformat": 4,
  "nbformat_minor": 0,
  "metadata": {
    "colab": {
      "provenance": []
    },
    "kernelspec": {
      "name": "python3",
      "display_name": "Python 3"
    },
    "language_info": {
      "name": "python"
    }
  },
  "cells": [
    {
      "cell_type": "markdown",
      "source": [
        "##Transformación de Fechas y horas"
      ],
      "metadata": {
        "id": "1pmu3mi6Dh0R"
      }
    },
    {
      "cell_type": "code",
      "source": [
        "#Importamos librerías\n",
        "from datetime import datetime, date, time, timedelta\n",
        "import datetime\n",
        "import pandas as pd"
      ],
      "metadata": {
        "id": "ul44qE9qDnGQ"
      },
      "execution_count": 1,
      "outputs": []
    },
    {
      "cell_type": "code",
      "source": [
        "#AÑO\n",
        "ahora = datetime.datetime.now()\n",
        "print(\"La fecha y hora actual es: \", ahora)\n",
        "\n",
        "#Este año\n",
        "anio = ahora.year\n",
        "print(\"El año es: \", anio)\n",
        "\n",
        "#Año proximo\n",
        "año_proximo = anio + 1\n",
        "print(\"El año próximo es: \", año_proximo)"
      ],
      "metadata": {
        "id": "nepUFIbtGUBu",
        "colab": {
          "base_uri": "https://localhost:8080/"
        },
        "outputId": "cebe02eb-5bda-455d-ef47-66ea43353604"
      },
      "execution_count": 2,
      "outputs": [
        {
          "output_type": "stream",
          "name": "stdout",
          "text": [
            "La fecha y hora actual es:  2025-09-11 22:35:11.690979\n",
            "El año es:  2025\n",
            "El año próximo es:  2026\n"
          ]
        }
      ]
    },
    {
      "cell_type": "code",
      "source": [
        "#Mes\n",
        "\n",
        "#Mes actual\n",
        "mes_actual = ahora.month\n",
        "print(\"El mes actual es: \", mes_actual)\n",
        "\n",
        "#Mes próximo\n",
        "mes_proximo = mes_actual + 1\n",
        "print(\"El mes próximo es: \", mes_proximo)\n",
        "\n",
        "#Cambio el tipo de dato\n",
        "print(type(mes_proximo))\n",
        "print(type(str(mes_proximo)))"
      ],
      "metadata": {
        "id": "oo9D-S5JG3F7",
        "colab": {
          "base_uri": "https://localhost:8080/"
        },
        "outputId": "0c4c0ec8-8502-4b86-e60f-dfe68298854d"
      },
      "execution_count": 3,
      "outputs": [
        {
          "output_type": "stream",
          "name": "stdout",
          "text": [
            "El mes actual es:  9\n",
            "El mes próximo es:  10\n",
            "<class 'int'>\n",
            "<class 'str'>\n"
          ]
        }
      ]
    },
    {
      "cell_type": "code",
      "source": [
        "#DIA\n",
        "\n",
        "#Dia actual\n",
        "dia_actual = ahora.day\n",
        "print(\"El día actual es: \", dia_actual)\n",
        "\n",
        "#Dia próximo\n",
        "dia_proximo = dia_actual + 1\n",
        "print(\"El día próximo es: \", dia_proximo)"
      ],
      "metadata": {
        "id": "sO11Q6HtH4v0",
        "colab": {
          "base_uri": "https://localhost:8080/"
        },
        "outputId": "dc916792-13ea-43ec-c328-0f5d1ee02b39"
      },
      "execution_count": 4,
      "outputs": [
        {
          "output_type": "stream",
          "name": "stdout",
          "text": [
            "El día actual es:  11\n",
            "El día próximo es:  12\n"
          ]
        }
      ]
    },
    {
      "cell_type": "code",
      "execution_count": 5,
      "metadata": {
        "id": "6oFz-6IODYLW",
        "colab": {
          "base_uri": "https://localhost:8080/"
        },
        "outputId": "e26fff27-cbae-4940-ea98-977544dfb10e"
      },
      "outputs": [
        {
          "output_type": "stream",
          "name": "stdout",
          "text": [
            "La hora Greenwich Mean Time (GMT) es:  2025-09-11 22:35:17.481900\n",
            "La hora en Argentina es: 2025-09-11 19:35:17.481900\n"
          ]
        }
      ],
      "source": [
        "#HORA\n",
        "\n",
        "#Hora GMT\n",
        "ahora = datetime.datetime.now()\n",
        "print(\"La hora Greenwich Mean Time (GMT) es: \", ahora)\n",
        "\n",
        "#Hora Argentina (Le restamos 3 horas)\n",
        "hora_arg = ahora - timedelta(hours=3)\n",
        "print(\"La hora en Argentina es:\", hora_arg)\n"
      ]
    },
    {
      "cell_type": "code",
      "source": [
        "# Formatear la hora\n",
        "hora_formateada = ahora.strftime(\"%Y-%m-%d %H:%M:%S\")\n",
        "\n",
        "# Imprimir la hora formateada\n",
        "print(\"La hora actual es:\", hora_formateada)"
      ],
      "metadata": {
        "id": "rWMSLs3AFuPc",
        "colab": {
          "base_uri": "https://localhost:8080/"
        },
        "outputId": "822be40a-2834-4936-8e91-4af791d86def"
      },
      "execution_count": 6,
      "outputs": [
        {
          "output_type": "stream",
          "name": "stdout",
          "text": [
            "La hora actual es: 2025-09-11 22:35:17\n"
          ]
        }
      ]
    },
    {
      "cell_type": "markdown",
      "source": [
        "##Transformación de Strings a enteros"
      ],
      "metadata": {
        "id": "qVAyoAIcJzQo"
      }
    },
    {
      "cell_type": "code",
      "source": [
        "#Cambio el tipo de dato, de string a enteros\n",
        "\n",
        "numero = \"15\"\n",
        "\n",
        "print(type(numero))\n",
        "\n",
        "print(f\"El numero ingresado es : {numero} y el tipo es:  {type(numero)} \")"
      ],
      "metadata": {
        "id": "XR6dWuCaJ38f",
        "colab": {
          "base_uri": "https://localhost:8080/"
        },
        "outputId": "8ed49b56-3808-4c47-f001-22796b3f2481"
      },
      "execution_count": 7,
      "outputs": [
        {
          "output_type": "stream",
          "name": "stdout",
          "text": [
            "<class 'str'>\n",
            "El numero ingresado es : 15 y el tipo es:  <class 'str'> \n"
          ]
        }
      ]
    },
    {
      "cell_type": "code",
      "source": [
        "#convertimos el dato de estring a enteros\n",
        "numero = int(numero)\n",
        "\n",
        "print(f\"El numero ingresado es : {numero} y el tipo es:  {type(numero)} \")"
      ],
      "metadata": {
        "id": "b7fzxXrSLLJn",
        "colab": {
          "base_uri": "https://localhost:8080/"
        },
        "outputId": "baab8af7-67fb-47f5-9d76-ddd52f960e37"
      },
      "execution_count": 8,
      "outputs": [
        {
          "output_type": "stream",
          "name": "stdout",
          "text": [
            "El numero ingresado es : 15 y el tipo es:  <class 'int'> \n"
          ]
        }
      ]
    },
    {
      "cell_type": "markdown",
      "source": [
        "##Transformación de Strings a decimales"
      ],
      "metadata": {
        "id": "pDYWvtaPLv06"
      }
    },
    {
      "cell_type": "code",
      "source": [
        "#Cambio el tipo de dato, de string a enteros\n",
        "\n",
        "numero = \"10.1\"\n",
        "\n",
        "print(f\"El numero ingresado es : {numero} y el tipo es:  {type(numero)} \")"
      ],
      "metadata": {
        "id": "Yu3Hsd2bLx7R",
        "colab": {
          "base_uri": "https://localhost:8080/"
        },
        "outputId": "1b10f544-bd4c-4912-87fe-126a4c719e8f"
      },
      "execution_count": 9,
      "outputs": [
        {
          "output_type": "stream",
          "name": "stdout",
          "text": [
            "El numero ingresado es : 10.1 y el tipo es:  <class 'str'> \n"
          ]
        }
      ]
    },
    {
      "cell_type": "code",
      "source": [
        "#convertimos el dato de estring a enteros\n",
        "numero = float(numero)\n",
        "\n",
        "print(f\"El numero ingresado es : {numero} y el tipo es:  {type(numero)} \")"
      ],
      "metadata": {
        "id": "8LHxTxfZL8eY",
        "colab": {
          "base_uri": "https://localhost:8080/"
        },
        "outputId": "cf575898-f4dd-465f-cc94-ffa28d4d2d44"
      },
      "execution_count": 10,
      "outputs": [
        {
          "output_type": "stream",
          "name": "stdout",
          "text": [
            "El numero ingresado es : 10.1 y el tipo es:  <class 'float'> \n"
          ]
        }
      ]
    },
    {
      "cell_type": "markdown",
      "source": [
        "##Transformación, join de datasets"
      ],
      "metadata": {
        "id": "6pCfMK9KMa1h"
      }
    },
    {
      "cell_type": "code",
      "source": [
        "\n",
        "# Notas de Matemática y Lengua\n",
        "df1 = pd.DataFrame({'Alumno': ['Alumno0', 'Alumno1', 'Alumno2'],\n",
        "                    'Matermática': ['5', '6', '7'],\n",
        "                    'Lengua': ['7', '7', '8']\n",
        "                    })\n",
        "\n",
        "# Notas de Historia y Geografía\n",
        "df2 = pd.DataFrame({'Alumno': ['Alumno0', 'Alumno2', 'Alumno3'],\n",
        "                    'Historia': ['4', '5', '4'],\n",
        "                    'Geografía': ['6', '7', '9']\n",
        "                    })\n",
        "\n",
        "# Mostramos los dataframes\n",
        "print(df1)\n",
        "print('           ')\n",
        "print(df2)\n",
        "\n"
      ],
      "metadata": {
        "id": "NfT7OdDtNg0d",
        "colab": {
          "base_uri": "https://localhost:8080/"
        },
        "outputId": "d18c9303-6baf-49b1-88ff-180012ab1c1c"
      },
      "execution_count": 11,
      "outputs": [
        {
          "output_type": "stream",
          "name": "stdout",
          "text": [
            "    Alumno Matermática Lengua\n",
            "0  Alumno0           5      7\n",
            "1  Alumno1           6      7\n",
            "2  Alumno2           7      8\n",
            "           \n",
            "    Alumno Historia Geografía\n",
            "0  Alumno0        4         6\n",
            "1  Alumno2        5         7\n",
            "2  Alumno3        4         9\n"
          ]
        }
      ]
    },
    {
      "cell_type": "code",
      "source": [
        "# Hacemos join de los dataframes y mostramos las notas\n",
        "\n",
        "merged_df = pd.merge(df1, df2, on='Alumno', how='inner')\n",
        "print(merged_df)"
      ],
      "metadata": {
        "id": "5u_k4tr0SCgp",
        "colab": {
          "base_uri": "https://localhost:8080/"
        },
        "outputId": "1a1edd82-eb98-4e23-8483-cf334c2d19a5"
      },
      "execution_count": 12,
      "outputs": [
        {
          "output_type": "stream",
          "name": "stdout",
          "text": [
            "    Alumno Matermática Lengua Historia Geografía\n",
            "0  Alumno0           5      7        4         6\n",
            "1  Alumno2           7      8        5         7\n"
          ]
        }
      ]
    },
    {
      "cell_type": "markdown",
      "source": [
        "##Substitución de datos faltante por un tipo de dato default"
      ],
      "metadata": {
        "id": "Rv1PhlReXRaZ"
      }
    },
    {
      "cell_type": "code",
      "source": [
        "#Reemplazamos nulos por ceros\n",
        "\n",
        "# Creando un DataFrame\n",
        "df = pd.DataFrame({'columna1': [1, 2, None, 4],\n",
        "                   'columna2': [5, None, None, 8]})\n",
        "\n",
        "# Rellenando los valores nulos con 0\n",
        "df = df.fillna(0) #Podemos reemplazar el cero por el valor que necesitemos\n",
        "print(df)\n"
      ],
      "metadata": {
        "id": "v68zUZ3yXVyL",
        "colab": {
          "base_uri": "https://localhost:8080/"
        },
        "outputId": "e315fadc-e554-4aa0-ff00-f15cffe33b80"
      },
      "execution_count": 13,
      "outputs": [
        {
          "output_type": "stream",
          "name": "stdout",
          "text": [
            "   columna1  columna2\n",
            "0       1.0       5.0\n",
            "1       2.0       0.0\n",
            "2       0.0       0.0\n",
            "3       4.0       8.0\n"
          ]
        }
      ]
    },
    {
      "cell_type": "markdown",
      "source": [
        "##Filtrar datos que rompen reglas de negocio o porque no los necesitemos"
      ],
      "metadata": {
        "id": "92xDXtCoZbVe"
      }
    },
    {
      "cell_type": "code",
      "source": [
        "\n",
        "# Creamos un DataFrame de ejemplo\n",
        "data = {'producto': ['A', 'B', 'C', 'D'],\n",
        "        'precio': [5, 15, 8, 20]}\n",
        "df = pd.DataFrame(data)\n",
        "\n",
        "print(df)\n"
      ],
      "metadata": {
        "id": "o3m7TB6yZnXx",
        "colab": {
          "base_uri": "https://localhost:8080/"
        },
        "outputId": "e847752d-6848-4972-cc73-dffa51fb9148"
      },
      "execution_count": 14,
      "outputs": [
        {
          "output_type": "stream",
          "name": "stdout",
          "text": [
            "  producto  precio\n",
            "0        A       5\n",
            "1        B      15\n",
            "2        C       8\n",
            "3        D      20\n"
          ]
        }
      ]
    },
    {
      "cell_type": "code",
      "source": [
        "# Filtrar los productos con precio menor a 10\n",
        "df_filtrado = df[df['precio'] < 10]\n",
        "print(df_filtrado)"
      ],
      "metadata": {
        "id": "gD87fIRUZrXz",
        "colab": {
          "base_uri": "https://localhost:8080/"
        },
        "outputId": "087079a4-434c-4f8a-d9bf-bdbbe96fdfa7"
      },
      "execution_count": 15,
      "outputs": [
        {
          "output_type": "stream",
          "name": "stdout",
          "text": [
            "  producto  precio\n",
            "0        A       5\n",
            "2        C       8\n"
          ]
        }
      ]
    },
    {
      "cell_type": "markdown",
      "source": [
        "##Eliminar columnas que no son necesarias"
      ],
      "metadata": {
        "id": "JQssgWdSZ8CF"
      }
    },
    {
      "cell_type": "code",
      "source": [
        "\n",
        "# Creamos un DataFrame de ejemplo\n",
        "data = {'nombre': ['Ana', 'Pedro', 'María'],\n",
        "        'edad': [30, 25, 32],\n",
        "        'ciudad': ['Madrid', 'Barcelona', 'Sevilla'],\n",
        "        'correo': ['ana@example.com', 'pedro@example.com', 'maria@example.com'],\n",
        "        'telefono': [123456789, 987654321, 567891234]}\n",
        "df = pd.DataFrame(data)\n",
        "\n",
        "print(df)"
      ],
      "metadata": {
        "id": "DA6LSOxOZ_11",
        "colab": {
          "base_uri": "https://localhost:8080/"
        },
        "outputId": "7881bd62-54ed-4a17-96f4-578e7cd9cd2c"
      },
      "execution_count": 16,
      "outputs": [
        {
          "output_type": "stream",
          "name": "stdout",
          "text": [
            "  nombre  edad     ciudad             correo   telefono\n",
            "0    Ana    30     Madrid    ana@example.com  123456789\n",
            "1  Pedro    25  Barcelona  pedro@example.com  987654321\n",
            "2  María    32    Sevilla  maria@example.com  567891234\n"
          ]
        }
      ]
    },
    {
      "cell_type": "code",
      "source": [
        "# Eliminar las columnas 'correo' y 'telefono'\n",
        "columnas_a_eliminar = ['correo', 'telefono']\n",
        "\n",
        "#axis=1: Se refiere a las columnas.\n",
        "#inplace=True: modifica el DataFrame original en lugar de crear una copia y realizar los cambios en ella\n",
        "df.drop(columnas_a_eliminar, axis=1, inplace=True)\n",
        "\n",
        "print(df)"
      ],
      "metadata": {
        "id": "nTW98L5caFDr",
        "colab": {
          "base_uri": "https://localhost:8080/"
        },
        "outputId": "9833fca8-bb73-492f-e608-06267823fa6a"
      },
      "execution_count": 17,
      "outputs": [
        {
          "output_type": "stream",
          "name": "stdout",
          "text": [
            "  nombre  edad     ciudad\n",
            "0    Ana    30     Madrid\n",
            "1  Pedro    25  Barcelona\n",
            "2  María    32    Sevilla\n"
          ]
        }
      ]
    }
  ]
}